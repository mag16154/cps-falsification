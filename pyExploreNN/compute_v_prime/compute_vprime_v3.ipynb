{
 "cells": [
  {
   "cell_type": "code",
   "execution_count": null,
   "metadata": {},
   "outputs": [
    {
     "name": "stdout",
     "output_type": "stream",
     "text": [
      "1\n",
      "45000\n",
      "Y_test length 14850 test_predictions length 14850\n",
      "Mean Squared error 0.2027648600090043\n",
      "Mean relative error 1.2894424392403487\n",
      "Mean sorted error 1.4709429261979259\n"
     ]
    },
    {
     "data": {
      "image/png": "[encoded data removed]",
      "text/plain": [
       "<matplotlib.figure.Figure at 0x7f6d7b606b38>"
      ]
     },
     "metadata": {},
     "output_type": "display_data"
    }
   ],
   "source": [
    "import matplotlib\n",
    "\n",
    "%matplotlib inline\n",
    "\n",
    "from compute_vprime_v3 import nnOnStateSpace\n",
    "\n",
    "# time step default = 0.01, number of steps default = 100\n",
    "# dimensions default = 2, number of sample default = 50\n",
    "\n",
    "nnObject = nnOnStateSpace(dynamics='Brussellator')\n",
    "\n",
    "nnObject.setSteps(1000)\n",
    "\n",
    "nnObject.setLowerBound([-10.0, -10.0])\n",
    "nnObject.setUpperBound([10.0, 10.0])\n",
    "\n",
    "nnObject.generateTrajectories()\n",
    "nnObject.createNN()\n",
    "nnObject.trainTestNN()"
   ]
  },
  {
   "cell_type": "code",
   "execution_count": null,
   "metadata": {},
   "outputs": [
    {
     "name": "stdout",
     "output_type": "stream",
     "text": [
      "1\n",
      "45000\n"
     ]
    }
   ],
   "source": [
    "import matplotlib\n",
    "\n",
    "%matplotlib inline\n",
    "\n",
    "from compute_vprime_v3 import nnOnStateSpace\n",
    "\n",
    "# time step default = 0.01, number of steps default = 100\n",
    "# dimensions default = 2, number of sample default = 50\n",
    "\n",
    "nnObject = nnOnStateSpace(dynamics='Roesseler', dimensions=3)\n",
    "\n",
    "nnObject.setSteps(1000)\n",
    "nnObject.setLowerBound([0.0, 0.0, 0.0])\n",
    "nnObject.setUpperBound([10.0, 10.0, 10.0])\n",
    "\n",
    "nnObject.generateTrajectories()\n",
    "nnObject.setNeurons([40, 25, 20])\n",
    "nnObject.setLayers(3)\n",
    "nnObject.createNN()\n",
    "nnObject.trainTestNN(act_fn='logistic', solver_fn='lbfgs')"
   ]
  },
  {
   "cell_type": "code",
   "execution_count": null,
   "metadata": {},
   "outputs": [],
   "source": []
  }
 ],
 "metadata": {
  "kernelspec": {
   "display_name": "Python 3",
   "language": "python",
   "name": "python3"
  },
  "language_info": {
   "codemirror_mode": {
    "name": "ipython",
    "version": 3
   },
   "file_extension": ".py",
   "mimetype": "text/x-python",
   "name": "python",
   "nbconvert_exporter": "python",
   "pygments_lexer": "ipython3",
   "version": "3.6.4"
  }
 },
 "nbformat": 4,
 "nbformat_minor": 2
}
